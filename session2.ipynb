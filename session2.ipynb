{
 "cells": [
  {
   "cell_type": "code",
   "execution_count": 1,
   "metadata": {},
   "outputs": [
    {
     "name": "stdout",
     "output_type": "stream",
     "text": [
      "my first jpn\n"
     ]
    }
   ],
   "source": [
    "print('my first jpn')"
   ]
  },
  {
   "cell_type": "markdown",
   "metadata": {},
   "source": [
    "Python is a high-level, interpreted programming language known for its simplicity and readability. It supports multiple programming paradigms, including procedural, object-oriented, and functional programming. Python's design philosophy emphasizes code readability, making it an excellent choice for beginners and professionals alike."
   ]
  },
  {
   "cell_type": "markdown",
   "metadata": {},
   "source": [
    "Key Features\n",
    "1.Dynamic Typing: Variables do not require explicit declaration to reserve memory space.\n",
    "2.Interpreted Language: Python code is executed line by line, which simplifies debugging.\n",
    "3.Extensive Libraries: Python has a rich ecosystem of libraries and frameworks that facilitate various applications, from web development to data analysis."
   ]
  },
  {
   "cell_type": "markdown",
   "metadata": {},
   "source": [
    "FEATURES OF PYTHON\n",
    "• Easy to understand = Less development time\n",
    "• Free and open source\n",
    "• High level language\n",
    "• Portable: Works on Linux / Windows / Mac.\n",
    "• Fun to work with!"
   ]
  },
  {
   "cell_type": "markdown",
   "metadata": {},
   "source": [
    "INSTALLATION\n",
    "Python can be easily installed from python.org. When you click on the download\n",
    "button, python can be installed right after you complete the setup by executing the file\n",
    "for your platform."
   ]
  },
  {
   "cell_type": "code",
   "execution_count": 2,
   "metadata": {},
   "outputs": [
    {
     "name": "stdout",
     "output_type": "stream",
     "text": [
      "hello world\n"
     ]
    }
   ],
   "source": [
    "print(\"hello world\") # print is a function (more later)"
   ]
  },
  {
   "cell_type": "markdown",
   "metadata": {},
   "source": [
    "MODULES\n",
    "A module is a file containing code written by somebody else (usually) which can be\n",
    "imported and used in our programs."
   ]
  },
  {
   "cell_type": "markdown",
   "metadata": {},
   "source": [
    "PIP\n",
    "Pip is the package manager for python. You can use pip to install a module on your\n",
    "system. "
   ]
  },
  {
   "cell_type": "markdown",
   "metadata": {},
   "source": [
    "TYPES OF MODULES\n",
    "There are two types of modules in Python.\n",
    "1. Built in Modules (Preinstalled in Python)\n",
    "2. External Modules (Need to install using pip)"
   ]
  },
  {
   "cell_type": "markdown",
   "metadata": {},
   "source": [
    "COMMENTS\n",
    "Comments are used to write something which the programmer does not want to\n",
    "execute. This can be used to mark author name, date etc.\n",
    "TYPES OF COMMENTS\n",
    "There are two types of comments in python.\n",
    "1. Single Line Comments: To write a single line comment just add a ‘#’ at the start\n",
    "of the line.\n",
    "# This is a Single-Line Comment\n",
    "2. Multiline Comments: To write multi-line comments you can use ‘#’ at each line\n",
    "or you can use the multiline string (\"\"\" \"\"\")\n",
    "\"\"\"This is an amazing\n",
    "example of a Multiline\n",
    "comment!\"\"\""
   ]
  }
 ],
 "metadata": {
  "kernelspec": {
   "display_name": "Python 3",
   "language": "python",
   "name": "python3"
  },
  "language_info": {
   "codemirror_mode": {
    "name": "ipython",
    "version": 3
   },
   "file_extension": ".py",
   "mimetype": "text/x-python",
   "name": "python",
   "nbconvert_exporter": "python",
   "pygments_lexer": "ipython3",
   "version": "3.12.4"
  }
 },
 "nbformat": 4,
 "nbformat_minor": 2
}
